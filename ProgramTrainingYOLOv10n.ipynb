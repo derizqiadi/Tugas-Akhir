{
  "nbformat": 4,
  "nbformat_minor": 0,
  "metadata": {
    "colab": {
      "provenance": []
    },
    "kernelspec": {
      "name": "python3",
      "display_name": "Python 3"
    },
    "language_info": {
      "name": "python"
    }
  },
  "cells": [
    {
      "cell_type": "code",
      "execution_count": null,
      "metadata": {
        "id": "n0XSp9BnnCbn"
      },
      "outputs": [],
      "source": [
        "import os\n",
        "HOME = os.getcwd()\n",
        "print(HOME)"
      ]
    },
    {
      "cell_type": "code",
      "source": [
        "# INSTALL METODE YOLOv10n\n",
        "\n",
        "!pip install ultralytics\n",
        "\n",
        "\n",
        "from IPython import display\n",
        "display.clear_output()\n",
        "\n",
        "import ultralytics\n",
        "ultralytics.checks()"
      ],
      "metadata": {
        "id": "6rdK028cnGmu"
      },
      "execution_count": null,
      "outputs": []
    },
    {
      "cell_type": "code",
      "source": [
        "from ultralytics import YOLO\n",
        "\n",
        "from IPython.display import display, Image"
      ],
      "metadata": {
        "id": "70PdXBPRnIMH"
      },
      "execution_count": null,
      "outputs": []
    },
    {
      "cell_type": "code",
      "source": [
        "%cd {HOME}\n",
        "!yolo task=detect mode=predict model=yolov10n.pt conf=0.25 source='https://media.roboflow.com/notebooks/examples/dog.jpeg' save=True"
      ],
      "metadata": {
        "id": "CewP_4Y-oPjr"
      },
      "execution_count": null,
      "outputs": []
    },
    {
      "cell_type": "code",
      "source": [
        "from google.colab import drive\n",
        "drive.mount('/content/gdrive')\n",
        "!ln -s /content/gdrive/My\\ Drive/ /mydrive\n",
        "!ls /mydrive"
      ],
      "metadata": {
        "id": "-QlgKnMZobbZ"
      },
      "execution_count": null,
      "outputs": []
    },
    {
      "cell_type": "code",
      "source": [
        "!mkdir {HOME}/datasets\n",
        "%cd {HOME}/datasets\n",
        "\n",
        "!unzip /content/gdrive/MyDrive/datasetyolo.zip"
      ],
      "metadata": {
        "id": "YwHpUDr2osxn"
      },
      "execution_count": null,
      "outputs": []
    },
    {
      "cell_type": "code",
      "source": [
        "# TRAINING MODEL YOLOv10n\n",
        "\n",
        "%cd {HOME}\n",
        "\n",
        "!yolo task=detect mode=train model=yolov10n.pt data=/content/datasets/datasetyolo/data.yaml epochs=100 imgsz=240 plots=True"
      ],
      "metadata": {
        "id": "CzpELpfMougz"
      },
      "execution_count": null,
      "outputs": []
    },
    {
      "cell_type": "code",
      "source": [
        "# KONVERSI MODEL KE FORMAT TFLITE\n",
        "\n",
        "from ultralytics import YOLO\n",
        "model=YOLO('/content/runs/detect/train2/weights/best.pt')\n",
        "model.export(format='tflite')"
      ],
      "metadata": {
        "id": "5kg0l4Kko0Q9"
      },
      "execution_count": null,
      "outputs": []
    }
  ]
}